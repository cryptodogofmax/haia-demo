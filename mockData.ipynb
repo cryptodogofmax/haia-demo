{
 "cells": [
  {
   "cell_type": "code",
   "execution_count": 1,
   "metadata": {},
   "outputs": [],
   "source": [
    "%load_ext lab_black"
   ]
  },
  {
   "cell_type": "code",
   "execution_count": 18,
   "metadata": {},
   "outputs": [],
   "source": [
    "genders = [\"F\", \"M\"]\n",
    "ages = [i for i in range(1, 130)]\n",
    "countries = [\n",
    "    \"Singapore\",\n",
    "    \"United States of America\",\n",
    "    \"China\",\n",
    "    \"France\",\n",
    "    \"Germany\",\n",
    "    \"Japan\",\n",
    "]\n",
    "foods = [\n",
    "    \"Fried Chicken\",\n",
    "    \"Korean Barbecue\",\n",
    "    \"Cheese Burger\",\n",
    "    \"Roast Peking Duck\",\n",
    "    \"Mutton in Hot Pot\",\n",
    "    \"Macaron\",\n",
    "    \"Stout Beer\",\n",
    "    \"Kaya Toast\",\n",
    "    \"milk\",\n",
    "    \"coffee\",\n",
    "    \"Minced Pork Congee with Preserved Egg\",\n",
    "]\n",
    "foods_pic = {\n",
    "    \"Fried Chicken\": \"./pics/FriedChicken.jpeg\",\n",
    "    \"Korean Barbecue\": \"./pics/KoreanBarbecue.jpeg\",\n",
    "    \"Cheese Burger\": \"./pics/CheeseBurger.jpeg\",\n",
    "    \"Roast Peking Duck\": \"./pics/RoastPekingDuck.jpeg\",\n",
    "    \"Mutton in Hot Pot\": \"./pics/MuttonInHotPot.jpeg\",\n",
    "    \"Macaron\": \"./pics/macaron.jpeg\",\n",
    "    \"Stout Beer\": \"./pics/stoutBeer.jpeg\",\n",
    "    \"Kaya Toast\": \"./pics/kayaToast.jpeg\",\n",
    "    \"Milk\": \"./pics/milk.jpeg\",\n",
    "    \"Coffee\": \"./pics/coffee.jpeg\",\n",
    "    \"Minced Pork Congee with Preserved Egg\": \"./pics/porridge.jpeg\",\n",
    "}"
   ]
  },
  {
   "cell_type": "code",
   "execution_count": 17,
   "metadata": {},
   "outputs": [],
   "source": [
    "def find_food(age, gender, country):\n",
    "    if age < 5:\n",
    "        return \"milk\"\n",
    "\n",
    "    if age > 80:\n",
    "        return \"coffee\"\n",
    "\n",
    "    if country == \"Singaopre\":\n",
    "        if age > 40:\n",
    "            food = \"Kaya Toast\"\n",
    "        elif gener == \"F\":\n",
    "            food = \"Fried Chicken\"\n",
    "        else:\n",
    "            food = \"Korean Barbecue\"\n",
    "\n",
    "    if country == \"United States of America\":\n",
    "        food = \"Cheese Burger\"\n",
    "\n",
    "    if country == \"China\":\n",
    "        if age > 60:\n",
    "            food = \"Minced Pork Congee with Preserved Egg\"\n",
    "        elif gener == \"F\":\n",
    "            food = \"Roast Peking Duck\"\n",
    "        else:\n",
    "            food = \"Mutton in Hot Pot\"\n",
    "\n",
    "    if country == \"France\":\n",
    "        food = \"Macaron\"\n",
    "\n",
    "    if country == \"Germany\":\n",
    "        food = \"Stout Beer\"\n",
    "\n",
    "    if country == \"Japan\":\n",
    "        food = \"Sushi\"\n",
    "\n",
    "    else:\n",
    "        food = \"Ice Cream\"\n",
    "    return food"
   ]
  },
  {
   "cell_type": "code",
   "execution_count": null,
   "metadata": {},
   "outputs": [],
   "source": []
  }
 ],
 "metadata": {
  "kernelspec": {
   "display_name": "Python 3",
   "language": "python",
   "name": "python3"
  },
  "language_info": {
   "codemirror_mode": {
    "name": "ipython",
    "version": 3
   },
   "file_extension": ".py",
   "mimetype": "text/x-python",
   "name": "python",
   "nbconvert_exporter": "python",
   "pygments_lexer": "ipython3",
   "version": "3.8.8"
  }
 },
 "nbformat": 4,
 "nbformat_minor": 4
}
