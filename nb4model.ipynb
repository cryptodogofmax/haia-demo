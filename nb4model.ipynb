{
 "cells": [
  {
   "cell_type": "code",
   "execution_count": 1,
   "id": "973659f8-5bb8-43b9-8479-fe24fa3944d6",
   "metadata": {},
   "outputs": [],
   "source": [
    "%load_ext lab_black"
   ]
  },
  {
   "cell_type": "code",
   "execution_count": 3,
   "id": "a129754f-2b18-4d12-bb76-2858a18671c0",
   "metadata": {},
   "outputs": [],
   "source": [
    "import json\n",
    "\n",
    "f = open(\"modelData.json\")\n",
    "data = json.load(f)"
   ]
  },
  {
   "cell_type": "code",
   "execution_count": 7,
   "id": "488abb64-5140-4fd3-8891-edc637de7c22",
   "metadata": {},
   "outputs": [
    {
     "data": {
      "text/plain": [
       "['customer1',\n",
       " 'customer2',\n",
       " 'customer3',\n",
       " 'food',\n",
       " 'drink',\n",
       " 'Laundry Service',\n",
       " 'Retail']"
      ]
     },
     "execution_count": 7,
     "metadata": {},
     "output_type": "execute_result"
    }
   ],
   "source": [
    "list(data.keys())"
   ]
  },
  {
   "cell_type": "code",
   "execution_count": 8,
   "id": "01e36d23-0cf5-4949-a51f-4ded52a770f9",
   "metadata": {},
   "outputs": [
    {
     "data": {
      "text/plain": [
       "['33689 Chinese Set',\n",
       " '85399 PT BF Satay',\n",
       " '89429 Crew Meal',\n",
       " '33667 Vegeterian Set',\n",
       " '89096 PT BF Western Set']"
      ]
     },
     "execution_count": 8,
     "metadata": {},
     "output_type": "execute_result"
    }
   ],
   "source": [
    "data[\"food\"]"
   ]
  },
  {
   "cell_type": "code",
   "execution_count": 12,
   "id": "6053a58e-0dfa-45f7-8080-aec31c7681a6",
   "metadata": {},
   "outputs": [
    {
     "name": "stdout",
     "output_type": "stream",
     "text": [
      "customer1\n",
      "customer2\n",
      "customer3\n"
     ]
    }
   ],
   "source": [
    "customers = {\n",
    "    \"customer1\": data[\"customer1\"],\n",
    "    \"customer2\": data[\"customer2\"],\n",
    "    \"customer3\": data[\"customer3\"],\n",
    "}\n",
    "for x in customers.keys():\n",
    "    print(x)"
   ]
  },
  {
   "cell_type": "code",
   "execution_count": null,
   "id": "43061fcf-f79c-4ec6-af2a-4c303ecdf6e0",
   "metadata": {},
   "outputs": [],
   "source": []
  }
 ],
 "metadata": {
  "kernelspec": {
   "display_name": "Python 3 (ipykernel)",
   "language": "python",
   "name": "python3"
  },
  "language_info": {
   "codemirror_mode": {
    "name": "ipython",
    "version": 3
   },
   "file_extension": ".py",
   "mimetype": "text/x-python",
   "name": "python",
   "nbconvert_exporter": "python",
   "pygments_lexer": "ipython3",
   "version": "3.9.13"
  }
 },
 "nbformat": 4,
 "nbformat_minor": 5
}
